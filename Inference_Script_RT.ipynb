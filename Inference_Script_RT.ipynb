{
 "cells": [
  {
   "cell_type": "code",
   "execution_count": 1,
   "id": "6c89935b",
   "metadata": {},
   "outputs": [],
   "source": [
    "from azureml.core import Workspace\n",
    "\n",
    "ws = Workspace.from_config()"
   ]
  },
  {
   "cell_type": "code",
   "execution_count": 2,
   "id": "d6952e80",
   "metadata": {},
   "outputs": [],
   "source": [
    "from azureml.core.model import Model\n",
    "\n",
    "model1 = ws.models['Fraud_Detect_Model']"
   ]
  },
  {
   "cell_type": "code",
   "execution_count": 3,
   "id": "97a06e8e",
   "metadata": {},
   "outputs": [],
   "source": [
    "import os\n",
    "\n",
    "folder_name = './'\n",
    "script_file = os.path.join(folder_name,\"score_script.py\")"
   ]
  },
  {
   "cell_type": "code",
   "execution_count": 4,
   "id": "c8dd6e77",
   "metadata": {},
   "outputs": [
    {
     "name": "stdout",
     "output_type": "stream",
     "text": [
      "Overwriting ./score_script.py\n"
     ]
    }
   ],
   "source": [
    "%%writefile $script_file\n",
    "import json\n",
    "import os\n",
    "import pandas as pd\n",
    "import numpy as np\n",
    "from xgboost import XGBClassifier\n",
    "from sklearn.compose import ColumnTransformer\n",
    "from sklearn.pipeline import Pipeline\n",
    "from sklearn.preprocessing import OneHotEncoder\n",
    "from sklearn.preprocessing import StandardScaler\n",
    "from sklearn.preprocessing import OrdinalEncoder\n",
    "import joblib\n",
    "\n",
    "from inference_schema.schema_decorators import input_schema, output_schema\n",
    "from inference_schema.parameter_types.numpy_parameter_type import NumpyParameterType\n",
    "from inference_schema.parameter_types.pandas_parameter_type import PandasParameterType\n",
    "\n",
    "def init():\n",
    "    global model_pipe\n",
    "    model_pipe = joblib.load(os.path.join(os.getenv(\"AZUREML_MODEL_DIR\"), \"PipeFraudDetection.pkl\"))\n",
    "\n",
    "\n",
    "input_sample = pd.DataFrame(data = [{'id': 45, 'date' : \"abc\", 'amount': 95.55, 'old_balance': 142590.743, \n",
    "          'income': 2979.713, 'credit': 0, 'marital_status': 1, 'children': 2, \n",
    "          'month': 10, 'day_of_week': 'monday', 'category_recipient': 'food_store', \n",
    "          'transaction_type': 'onsite', 'transaction_method': 'other', 'foreign_transaction': 1}])\n",
    "output_sample = np.array([1.0])\n",
    "\n",
    "@input_schema('data', PandasParameterType(input_sample))\n",
    "@output_schema(NumpyParameterType(output_sample))\n",
    "\n",
    "def run(data):\n",
    "    data.drop(['id','date'], axis=1, inplace = True)\n",
    "    pred = model_pipe.predict(data)\n",
    "    return pred.tolist()"
   ]
  },
  {
   "cell_type": "code",
   "execution_count": 5,
   "id": "5d4365de",
   "metadata": {},
   "outputs": [],
   "source": [
    "from azureml.core.conda_dependencies import CondaDependencies \n",
    "\n",
    "myenv = CondaDependencies()\n",
    "myenv.add_conda_package('scikit-learn=0.22.1')\n",
    "myenv.add_conda_package('xgboost==1.2.0')\n",
    "myenv.add_conda_package('pandas==1.0.3')\n",
    "myenv.add_conda_package('numpy')\n",
    "myenv.add_conda_package('joblib')\n",
    "myenv.add_pip_package('inference-schema')\n",
    "\n",
    "env_file = os.path.join(folder_name,\"scoring_env.yml\")\n",
    "with open(env_file,\"w\") as f:\n",
    "    f.write(myenv.serialize_to_string())\n",
    "    \n",
    "env_file = os.path.join(folder_name,\"scoring_env.yml\")"
   ]
  },
  {
   "cell_type": "code",
   "execution_count": 6,
   "id": "997c73e7",
   "metadata": {},
   "outputs": [],
   "source": [
    "from azureml.core.compute import AksCompute\n",
    "\n",
    "aks_target = AksCompute(ws,\"My-Kub-Inf\")"
   ]
  },
  {
   "cell_type": "code",
   "execution_count": 7,
   "id": "0b3b5a43",
   "metadata": {},
   "outputs": [
    {
     "name": "stdout",
     "output_type": "stream",
     "text": [
      "Tips: You can try get_logs(): https://aka.ms/debugimage#dockerlog or local deployment: https://aka.ms/debugimage#debug-locally to debug if deployment takes longer than 10 minutes.\n",
      "Running\n",
      "2022-03-18 09:48:16+00:00 Creating Container Registry if not exists.\n",
      "2022-03-18 09:48:16+00:00 Registering the environment.\n",
      "2022-03-18 09:48:18+00:00 Use the existing image.\n",
      "2022-03-18 09:48:18+00:00 Generating deployment configuration.\n",
      "2022-03-18 09:48:19+00:00 Submitting deployment to compute.\n",
      "2022-03-18 09:48:27+00:00 Checking the status of deployment rt-fd-ml-scoring..\n",
      "2022-03-18 09:51:47+00:00 Checking the status of inference endpoint rt-fd-ml-scoring.\n",
      "Succeeded\n",
      "ACI service creation operation finished, operation \"Succeeded\"\n",
      "Healthy\n"
     ]
    }
   ],
   "source": [
    "from azureml.core.webservice import AciWebservice\n",
    "from azureml.core.webservice import AksWebservice\n",
    "from azureml.core.model import InferenceConfig\n",
    "from azureml.core import Model\n",
    "\n",
    "# Configure the scoring environment\n",
    "inference_config = InferenceConfig(runtime= \"python\",\n",
    "                                   entry_script=script_file,\n",
    "                                   conda_file=env_file)\n",
    "\n",
    "deployment_config = AciWebservice.deploy_configuration(cpu_cores = 0.1, memory_gb = 0.5, auth_enabled = False)\n",
    "\n",
    "service_name = \"rt-fd-ml-scoring\"\n",
    "\n",
    "service = Model.deploy(ws, service_name, [model1], inference_config, deployment_config, aks_target)\n",
    "\n",
    "service.wait_for_deployment(True)\n",
    "print(service.state)"
   ]
  },
  {
   "cell_type": "code",
   "execution_count": 8,
   "id": "2a4d6001",
   "metadata": {},
   "outputs": [
    {
     "name": "stdout",
     "output_type": "stream",
     "text": [
      "Healthy\n"
     ]
    }
   ],
   "source": [
    "print(service.state)"
   ]
  },
  {
   "cell_type": "code",
   "execution_count": 9,
   "id": "4719c514",
   "metadata": {},
   "outputs": [
    {
     "name": "stdout",
     "output_type": "stream",
     "text": [
      "[0]\n"
     ]
    }
   ],
   "source": [
    "import json\n",
    "\n",
    "x_new = {\n",
    "    \"data\": [{'id': 4, 'date' : 'yo', 'amount': 95.55648880442871, 'old_balance': 142590.44432050743, \n",
    "          'income': 2979.7136940079527, 'credit': 0, 'marital_status': 1, 'children': 2, \n",
    "          'month': 10, 'day_of_week': 'monday', 'category_recipient': 'food_store', \n",
    "          'transaction_type': 'onsite', 'transaction_method': 'other', 'foreign_transaction': 1}\n",
    "    ]\n",
    "}\n",
    "\n",
    "input_json = json.dumps(x_new)\n",
    "\n",
    "predictions = service.run(input_data = input_json)\n",
    "\n",
    "print(predictions)"
   ]
  },
  {
   "cell_type": "code",
   "execution_count": null,
   "id": "62c5ca86",
   "metadata": {},
   "outputs": [],
   "source": [
    "endpoint = service.scoring_uri\n",
    "testuri = service.swagger_uri\n",
    "print(testuri)\n",
    "print(endpoint)"
   ]
  },
  {
   "cell_type": "code",
   "execution_count": null,
   "id": "0d61d934",
   "metadata": {},
   "outputs": [],
   "source": [
    "#token, refresh_by = service.get_keys()\n",
    "#print(token)"
   ]
  },
  {
   "cell_type": "code",
   "execution_count": null,
   "id": "d3b0e354",
   "metadata": {},
   "outputs": [],
   "source": [
    "import requests\n",
    "import json\n",
    "\n",
    "x_new = {'id': 10000, 'amount': 95.55648880442871, 'old_balance': 142590.44432050743, \n",
    "          'income': 2979.7136940079527, 'credit': 0, 'marital_status': 1, 'children': 2, \n",
    "          'month': 10, 'day_of_week': 'monday', 'category_recipient': 'food_store', \n",
    "          'transaction_type': 'onsite', 'transaction_method': 'other', 'foreign_transaction': 1}\n",
    "\n",
    "input_json = json.dumps({\"data\": x_new})\n",
    "\n",
    "headers = { 'Content-Type':'application/json', 'Authorization' : 'Bearer' + token}\n",
    "\n",
    "predictions = requests.post(endpoint, input_json, headers = headers)\n",
    "print(predictions.json())\n",
    "\n"
   ]
  },
  {
   "cell_type": "code",
   "execution_count": null,
   "id": "d26d9630",
   "metadata": {},
   "outputs": [],
   "source": [
    "service = ws.webservices['test-scoring-service']\n",
    "print(service)"
   ]
  },
  {
   "cell_type": "code",
   "execution_count": null,
   "id": "e6f3a0ef",
   "metadata": {},
   "outputs": [],
   "source": [
    "service.delete()"
   ]
  },
  {
   "cell_type": "code",
   "execution_count": null,
   "id": "669a5c8d",
   "metadata": {},
   "outputs": [],
   "source": [
    "WITH \n",
    "Dataframe AS (\n",
    "SELECT id, amount, old_balance, income, credit, marital_status, children, month, day_of_week, category_recipient, transaction_type, transaction_method, foreign_transaction\n",
    "FROM input\n",
    ")\n",
    "\n",
    "SELECT id, amount, old_balance, income, credit, marital_status, children, month, day_of_week, category_recipient, transaction_type, transaction_method, foreign_transaction, udf.prediction(Dataframe)\n",
    "INTO output\n",
    "FROM Dataframe"
   ]
  }
 ],
 "metadata": {
  "kernelspec": {
   "display_name": "Python 3.6 - AzureML",
   "language": "python",
   "name": "python3-azureml"
  },
  "language_info": {
   "codemirror_mode": {
    "name": "ipython",
    "version": 3
   },
   "file_extension": ".py",
   "mimetype": "text/x-python",
   "name": "python",
   "nbconvert_exporter": "python",
   "pygments_lexer": "ipython3",
   "version": "3.6.9"
  }
 },
 "nbformat": 4,
 "nbformat_minor": 5
}
